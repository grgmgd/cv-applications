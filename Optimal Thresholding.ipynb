{
 "cells": [
  {
   "cell_type": "markdown",
   "metadata": {},
   "source": [
    "# Optimal Thresholding Segmentation\n",
    "\n",
    "<div style=\"font-family: Palatino Linotype;align-items:flex-start;float: left;\">\n",
    "\n",
    "#### Contributors:\n",
    "\n",
    "| Name   |      IDs      |\n",
    "|----------|:-------------:|\n",
    "| George Magued |  37 - 0930 |\n",
    "| Youssef Tarek Salah El Dine | 37-3865 |\n",
    "</div>"
   ]
  },
  {
   "cell_type": "code",
   "execution_count": null,
   "metadata": {},
   "outputs": [],
   "source": [
    "import numpy as np\n",
    "import matplotlib.pyplot as plt\n",
    "import matplotlib.cm as cm\n",
    "import matplotlib.image as matimage\n",
    "import imageio"
   ]
  },
  {
   "cell_type": "code",
   "execution_count": null,
   "metadata": {},
   "outputs": [],
   "source": [
    "guc = plt.imread(\"images/guc.jpg\")\n",
    "plt.imshow(guc, cmap=\"gray\")"
   ]
  },
  {
   "cell_type": "code",
   "execution_count": null,
   "metadata": {},
   "outputs": [],
   "source": [
    "def optimal_thresholding(image, n):\n",
    "    if(n == 1): \n",
    "        return image.flatten()\n",
    "    min = image.min()\n",
    "    max = image.max()\n",
    "    \n",
    "    thresholds = np.insert(np.linspace(min, max, n, endpoint=False).astype(int), n, max) \n",
    "    while(True):\n",
    "        segment_means = np.empty(n)\n",
    "        for i in range(n):\n",
    "            segment_means[i] = image[(image >= thresholds[i]) & (image < thresholds[i + 1])].mean().astype(int)\n",
    "        new_thresholds = np.empty(n - 1)\n",
    "        for i in range(n - 1):\n",
    "            new_thresholds[i] = (segment_means[i] + segment_means[i + 1]) // 2\n",
    "        new_thresholds = np.insert(np.sort(new_thresholds), [0, n - 1], [min, max]).astype(int)\n",
    "        if(np.array_equal(thresholds, new_thresholds)):\n",
    "            break\n",
    "        thresholds = new_thresholds.copy()\n",
    "        \n",
    "    x, y = image.shape\n",
    "    segments = np.empty((n, x, y))\n",
    "    for i in range(n):\n",
    "        segments[i] = np.where(((image >= thresholds[i]) & (image < thresholds[i + 1])), 1, 0)\n",
    "    return segments"
   ]
  },
  {
   "cell_type": "code",
   "execution_count": null,
   "metadata": {
    "scrolled": true
   },
   "outputs": [],
   "source": [
    "def segment_image(image, n, name):\n",
    "    segments = optimal_thresholding(guc, n)\n",
    "    segmented_image = np.empty(image.shape)\n",
    "    colors = np.linspace(0, 255, n, endpoint=True)\n",
    "    plot_segments(segments)\n",
    "    for i in range(n):\n",
    "        segment = segments[i]\n",
    "        segmented_image = segmented_image + np.where(segment != 0, colors[i], 0)\n",
    "        plt.imsave(f'output/optimal_thresholding/{name}_{n}_{i+1}.jpg', segments[i], cmap=\"gray\")\n",
    "    \n",
    "    plt.imsave(f'output/optimal_thresholding/{name}_{n}.jpg', segmented_image, cmap=\"gray\")\n",
    "    plt.imshow(segmented_image, cmap=\"gray\")"
   ]
  },
  {
   "cell_type": "code",
   "execution_count": null,
   "metadata": {},
   "outputs": [],
   "source": [
    "def plot_segments(segments):\n",
    "    fig, axs = plt.subplots(1, segments.shape[0])\n",
    "    for i in range(segments.shape[0]):\n",
    "        fig.set_size_inches((10,5))\n",
    "        axs[i].imshow(segments[1], cmap='gray')\n",
    "        axs[i].set_title(\"n\" + str(i+1))\n",
    "        axs[i].axis('off')"
   ]
  },
  {
   "cell_type": "code",
   "execution_count": null,
   "metadata": {
    "scrolled": false
   },
   "outputs": [],
   "source": [
    "segment_image(guc, 3, \"GUC\")"
   ]
  },
  {
   "cell_type": "code",
   "execution_count": null,
   "metadata": {},
   "outputs": [],
   "source": [
    "segment_image(guc, 4, \"GUC\")"
   ]
  }
 ],
 "metadata": {
  "kernelspec": {
   "display_name": "Python 3",
   "language": "python",
   "name": "python3"
  },
  "language_info": {
   "codemirror_mode": {
    "name": "ipython",
    "version": 3
   },
   "file_extension": ".py",
   "mimetype": "text/x-python",
   "name": "python",
   "nbconvert_exporter": "python",
   "pygments_lexer": "ipython3",
   "version": "3.7.3"
  }
 },
 "nbformat": 4,
 "nbformat_minor": 2
}
